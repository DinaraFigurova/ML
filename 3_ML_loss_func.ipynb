{
 "cells": [
  {
   "cell_type": "markdown",
   "metadata": {},
   "source": [
    "# Домашнее задание\n",
    "* Прочитать про методы оптимизации для нейронных сетей https://habr.com/post/318970/\n",
    "* Реализовать самостоятельно логистическую регрессию\n",
    "    * Обучить ее методом градиентного спуска\n",
    "    * Методом nesterov momentum\n",
    "    * Методом rmsprop\n",
    "* В качестве dataset'а взять Iris, оставив 2 класса:\n",
    "    * Iris Versicolor\n",
    "    * Iris Virginica"
   ]
  },
  {
   "cell_type": "code",
   "execution_count": 1,
   "metadata": {},
   "outputs": [],
   "source": [
    "import numpy as np\n",
    "from scipy.stats import t\n",
    "from scipy.stats import norm\n",
    "import matplotlib.pyplot as plt\n",
    "from scipy import stats\n",
    "import pandas as pd\n",
    "import io\n",
    "import requests\n",
    "import seaborn as sns\n",
    "import statistics\n",
    "from scipy.stats import pearsonr\n",
    "from sklearn.metrics import mean_squared_error, mean_absolute_error\n",
    "import random\n",
    "%matplotlib inline\n",
    "\n",
    "from sklearn import datasets\n",
    "from sklearn.linear_model import LogisticRegression"
   ]
  },
  {
   "cell_type": "code",
   "execution_count": 2,
   "metadata": {},
   "outputs": [
    {
     "data": {
      "text/html": [
       "<div>\n",
       "<style scoped>\n",
       "    .dataframe tbody tr th:only-of-type {\n",
       "        vertical-align: middle;\n",
       "    }\n",
       "\n",
       "    .dataframe tbody tr th {\n",
       "        vertical-align: top;\n",
       "    }\n",
       "\n",
       "    .dataframe thead th {\n",
       "        text-align: right;\n",
       "    }\n",
       "</style>\n",
       "<table border=\"1\" class=\"dataframe\">\n",
       "  <thead>\n",
       "    <tr style=\"text-align: right;\">\n",
       "      <th></th>\n",
       "      <th>sepal_length</th>\n",
       "      <th>sepal_width</th>\n",
       "      <th>petal_length</th>\n",
       "      <th>petal_width</th>\n",
       "      <th>species</th>\n",
       "    </tr>\n",
       "  </thead>\n",
       "  <tbody>\n",
       "    <tr>\n",
       "      <th>0</th>\n",
       "      <td>5.1</td>\n",
       "      <td>3.5</td>\n",
       "      <td>1.4</td>\n",
       "      <td>0.2</td>\n",
       "      <td>setosa</td>\n",
       "    </tr>\n",
       "    <tr>\n",
       "      <th>1</th>\n",
       "      <td>4.9</td>\n",
       "      <td>3.0</td>\n",
       "      <td>1.4</td>\n",
       "      <td>0.2</td>\n",
       "      <td>setosa</td>\n",
       "    </tr>\n",
       "    <tr>\n",
       "      <th>2</th>\n",
       "      <td>4.7</td>\n",
       "      <td>3.2</td>\n",
       "      <td>1.3</td>\n",
       "      <td>0.2</td>\n",
       "      <td>setosa</td>\n",
       "    </tr>\n",
       "    <tr>\n",
       "      <th>3</th>\n",
       "      <td>4.6</td>\n",
       "      <td>3.1</td>\n",
       "      <td>1.5</td>\n",
       "      <td>0.2</td>\n",
       "      <td>setosa</td>\n",
       "    </tr>\n",
       "    <tr>\n",
       "      <th>4</th>\n",
       "      <td>5.0</td>\n",
       "      <td>3.6</td>\n",
       "      <td>1.4</td>\n",
       "      <td>0.2</td>\n",
       "      <td>setosa</td>\n",
       "    </tr>\n",
       "  </tbody>\n",
       "</table>\n",
       "</div>"
      ],
      "text/plain": [
       "   sepal_length  sepal_width  petal_length  petal_width species\n",
       "0           5.1          3.5           1.4          0.2  setosa\n",
       "1           4.9          3.0           1.4          0.2  setosa\n",
       "2           4.7          3.2           1.3          0.2  setosa\n",
       "3           4.6          3.1           1.5          0.2  setosa\n",
       "4           5.0          3.6           1.4          0.2  setosa"
      ]
     },
     "execution_count": 2,
     "metadata": {},
     "output_type": "execute_result"
    }
   ],
   "source": [
    "sns.set(style=\"ticks\", color_codes=True)\n",
    "iris = sns.load_dataset(\"iris\")\n",
    "iris.head()"
   ]
  },
  {
   "cell_type": "code",
   "execution_count": 3,
   "metadata": {},
   "outputs": [
    {
     "data": {
      "text/plain": [
       "array(['setosa', 'versicolor', 'virginica'], dtype=object)"
      ]
     },
     "execution_count": 3,
     "metadata": {},
     "output_type": "execute_result"
    }
   ],
   "source": [
    "iris.species.unique()"
   ]
  },
  {
   "cell_type": "code",
   "execution_count": 4,
   "metadata": {},
   "outputs": [
    {
     "data": {
      "text/html": [
       "<div>\n",
       "<style scoped>\n",
       "    .dataframe tbody tr th:only-of-type {\n",
       "        vertical-align: middle;\n",
       "    }\n",
       "\n",
       "    .dataframe tbody tr th {\n",
       "        vertical-align: top;\n",
       "    }\n",
       "\n",
       "    .dataframe thead th {\n",
       "        text-align: right;\n",
       "    }\n",
       "</style>\n",
       "<table border=\"1\" class=\"dataframe\">\n",
       "  <thead>\n",
       "    <tr style=\"text-align: right;\">\n",
       "      <th></th>\n",
       "      <th>sepal_length</th>\n",
       "      <th>sepal_width</th>\n",
       "      <th>petal_length</th>\n",
       "      <th>petal_width</th>\n",
       "      <th>species</th>\n",
       "    </tr>\n",
       "  </thead>\n",
       "  <tbody>\n",
       "    <tr>\n",
       "      <th>50</th>\n",
       "      <td>7.0</td>\n",
       "      <td>3.2</td>\n",
       "      <td>4.7</td>\n",
       "      <td>1.4</td>\n",
       "      <td>versicolor</td>\n",
       "    </tr>\n",
       "    <tr>\n",
       "      <th>51</th>\n",
       "      <td>6.4</td>\n",
       "      <td>3.2</td>\n",
       "      <td>4.5</td>\n",
       "      <td>1.5</td>\n",
       "      <td>versicolor</td>\n",
       "    </tr>\n",
       "    <tr>\n",
       "      <th>52</th>\n",
       "      <td>6.9</td>\n",
       "      <td>3.1</td>\n",
       "      <td>4.9</td>\n",
       "      <td>1.5</td>\n",
       "      <td>versicolor</td>\n",
       "    </tr>\n",
       "    <tr>\n",
       "      <th>53</th>\n",
       "      <td>5.5</td>\n",
       "      <td>2.3</td>\n",
       "      <td>4.0</td>\n",
       "      <td>1.3</td>\n",
       "      <td>versicolor</td>\n",
       "    </tr>\n",
       "    <tr>\n",
       "      <th>54</th>\n",
       "      <td>6.5</td>\n",
       "      <td>2.8</td>\n",
       "      <td>4.6</td>\n",
       "      <td>1.5</td>\n",
       "      <td>versicolor</td>\n",
       "    </tr>\n",
       "  </tbody>\n",
       "</table>\n",
       "</div>"
      ],
      "text/plain": [
       "    sepal_length  sepal_width  petal_length  petal_width     species\n",
       "50           7.0          3.2           4.7          1.4  versicolor\n",
       "51           6.4          3.2           4.5          1.5  versicolor\n",
       "52           6.9          3.1           4.9          1.5  versicolor\n",
       "53           5.5          2.3           4.0          1.3  versicolor\n",
       "54           6.5          2.8           4.6          1.5  versicolor"
      ]
     },
     "execution_count": 4,
     "metadata": {},
     "output_type": "execute_result"
    }
   ],
   "source": [
    "# оставим 2 класса:\n",
    "    \n",
    "iris = iris.loc[iris['species'].isin(['versicolor', 'virginica'])]\n",
    "iris.head()"
   ]
  },
  {
   "cell_type": "code",
   "execution_count": 5,
   "metadata": {},
   "outputs": [],
   "source": [
    "from sklearn.preprocessing import LabelEncoder\n",
    "le = LabelEncoder()"
   ]
  },
  {
   "cell_type": "code",
   "execution_count": 6,
   "metadata": {},
   "outputs": [
    {
     "data": {
      "text/plain": [
       "LabelEncoder()"
      ]
     },
     "execution_count": 6,
     "metadata": {},
     "output_type": "execute_result"
    }
   ],
   "source": [
    "le.fit( iris['species'] )"
   ]
  },
  {
   "cell_type": "code",
   "execution_count": 7,
   "metadata": {},
   "outputs": [
    {
     "data": {
      "text/plain": [
       "array(['versicolor', 'virginica'], dtype=object)"
      ]
     },
     "execution_count": 7,
     "metadata": {},
     "output_type": "execute_result"
    }
   ],
   "source": [
    "le.classes_"
   ]
  },
  {
   "cell_type": "code",
   "execution_count": 8,
   "metadata": {},
   "outputs": [
    {
     "data": {
      "text/plain": [
       "0    0\n",
       "1    0\n",
       "2    0\n",
       "3    0\n",
       "4    0\n",
       "dtype: int32"
      ]
     },
     "execution_count": 8,
     "metadata": {},
     "output_type": "execute_result"
    }
   ],
   "source": [
    "y = pd.Series( data = le.transform( iris['species'] ) )\n",
    "y.head()"
   ]
  },
  {
   "cell_type": "code",
   "execution_count": 9,
   "metadata": {},
   "outputs": [
    {
     "data": {
      "text/html": [
       "<div>\n",
       "<style scoped>\n",
       "    .dataframe tbody tr th:only-of-type {\n",
       "        vertical-align: middle;\n",
       "    }\n",
       "\n",
       "    .dataframe tbody tr th {\n",
       "        vertical-align: top;\n",
       "    }\n",
       "\n",
       "    .dataframe thead th {\n",
       "        text-align: right;\n",
       "    }\n",
       "</style>\n",
       "<table border=\"1\" class=\"dataframe\">\n",
       "  <thead>\n",
       "    <tr style=\"text-align: right;\">\n",
       "      <th></th>\n",
       "      <th>sepal_length</th>\n",
       "      <th>sepal_width</th>\n",
       "      <th>petal_length</th>\n",
       "      <th>petal_width</th>\n",
       "    </tr>\n",
       "  </thead>\n",
       "  <tbody>\n",
       "    <tr>\n",
       "      <th>50</th>\n",
       "      <td>7.0</td>\n",
       "      <td>3.2</td>\n",
       "      <td>4.7</td>\n",
       "      <td>1.4</td>\n",
       "    </tr>\n",
       "    <tr>\n",
       "      <th>51</th>\n",
       "      <td>6.4</td>\n",
       "      <td>3.2</td>\n",
       "      <td>4.5</td>\n",
       "      <td>1.5</td>\n",
       "    </tr>\n",
       "    <tr>\n",
       "      <th>52</th>\n",
       "      <td>6.9</td>\n",
       "      <td>3.1</td>\n",
       "      <td>4.9</td>\n",
       "      <td>1.5</td>\n",
       "    </tr>\n",
       "    <tr>\n",
       "      <th>53</th>\n",
       "      <td>5.5</td>\n",
       "      <td>2.3</td>\n",
       "      <td>4.0</td>\n",
       "      <td>1.3</td>\n",
       "    </tr>\n",
       "    <tr>\n",
       "      <th>54</th>\n",
       "      <td>6.5</td>\n",
       "      <td>2.8</td>\n",
       "      <td>4.6</td>\n",
       "      <td>1.5</td>\n",
       "    </tr>\n",
       "  </tbody>\n",
       "</table>\n",
       "</div>"
      ],
      "text/plain": [
       "    sepal_length  sepal_width  petal_length  petal_width\n",
       "50           7.0          3.2           4.7          1.4\n",
       "51           6.4          3.2           4.5          1.5\n",
       "52           6.9          3.1           4.9          1.5\n",
       "53           5.5          2.3           4.0          1.3\n",
       "54           6.5          2.8           4.6          1.5"
      ]
     },
     "execution_count": 9,
     "metadata": {},
     "output_type": "execute_result"
    }
   ],
   "source": [
    "X = iris\n",
    "del X['species'] \n",
    "X.head()"
   ]
  },
  {
   "cell_type": "code",
   "execution_count": 10,
   "metadata": {},
   "outputs": [
    {
     "data": {
      "text/plain": [
       "(100, 4)"
      ]
     },
     "execution_count": 10,
     "metadata": {},
     "output_type": "execute_result"
    }
   ],
   "source": [
    "X.shape"
   ]
  },
  {
   "cell_type": "code",
   "execution_count": 11,
   "metadata": {},
   "outputs": [
    {
     "data": {
      "text/plain": [
       "array([[1. , 7. , 3.2, 4.7, 1.4],\n",
       "       [1. , 6.4, 3.2, 4.5, 1.5],\n",
       "       [1. , 6.9, 3.1, 4.9, 1.5],\n",
       "       [1. , 5.5, 2.3, 4. , 1.3],\n",
       "       [1. , 6.5, 2.8, 4.6, 1.5]])"
      ]
     },
     "execution_count": 11,
     "metadata": {},
     "output_type": "execute_result"
    }
   ],
   "source": [
    "m, n = np.shape(X)\n",
    "X = np.c_[ np.ones(m), X]\n",
    "X[:5]"
   ]
  },
  {
   "cell_type": "code",
   "execution_count": 12,
   "metadata": {},
   "outputs": [
    {
     "data": {
      "text/plain": [
       "100"
      ]
     },
     "execution_count": 12,
     "metadata": {},
     "output_type": "execute_result"
    }
   ],
   "source": [
    "m, n = np.shape(X)\n",
    "m"
   ]
  },
  {
   "cell_type": "code",
   "execution_count": 13,
   "metadata": {},
   "outputs": [],
   "source": [
    "# Реализация логистической регрессии\n",
    "def predict(theta, X):\n",
    "    predict = np.dot(X, theta)\n",
    "    sigm = 1. / (1 + np.exp(-predict))\n",
    "    return sigm\n",
    "    "
   ]
  },
  {
   "cell_type": "markdown",
   "metadata": {},
   "source": [
    "*Простой градиент*"
   ]
  },
  {
   "cell_type": "code",
   "execution_count": 31,
   "metadata": {},
   "outputs": [
    {
     "name": "stdout",
     "output_type": "stream",
     "text": [
      "[-0.66556365, -1.46787087, -0.21254648, -0.14877584, 2.22796437]\n",
      "[-0.21275782 -1.01506504  0.24025935  0.30402999  2.6807702 ]\n",
      "[-0.20350665 -1.00581387  0.24951052  0.31328116  2.69002137]\n",
      "[-0.2200117  -1.02231892  0.23300547  0.29677611  2.67351632]\n",
      "[-0.19035093 -0.99265815  0.26266624  0.32643688  2.70317709]\n",
      "[-0.24265826 -1.04496548  0.21035891  0.27412955  2.65086976]\n",
      "[-0.14904385 -0.95135107  0.30397332  0.36774396  2.74448417]\n",
      "[-0.30344737 -1.10575459  0.1495698   0.21334044  2.59008065]\n",
      "[-0.05314443 -0.85545165  0.39987274  0.46364338  2.84038359]\n",
      "[-0.35962885 -1.16193607  0.09338832  0.15715896  2.53389917]\n",
      "[-0.00726047 -0.80956769  0.4457567   0.50952734  2.88626755]\n",
      "[-0.34847511 -1.15078233  0.10454206  0.1683127   2.54505291]\n",
      "[-0.01251873 -0.81482595  0.44049844  0.50426908  2.88100929]\n",
      "[-0.35066227 -1.15296949  0.1023549   0.16612554  2.54286575]\n",
      "[-0.01133918 -0.8136464   0.44167799  0.50544863  2.88218884]\n",
      "[-0.35018946 -1.15249668  0.10282771  0.16659835  2.54333856]\n",
      "[-0.01158798 -0.8138952   0.44142919  0.50519983  2.88194004]\n",
      "[-0.35029006 -1.15259728  0.10272711  0.16649775  2.54323796]\n",
      "[-0.01153476 -0.81384198  0.44148241  0.50525305  2.88199326]\n",
      "[-0.35026858 -1.1525758   0.10274859  0.16651923  2.54325944]\n",
      "[-0.01154611 -0.81385333  0.44147106  0.5052417   2.88198191]\n",
      "[-0.35027316 -1.15258038  0.10274401  0.16651465  2.54325486]\n",
      "[-0.01154369 -0.81385091  0.44147348  0.50524412  2.88198433]\n",
      "[-0.35027218 -1.1525794   0.10274499  0.16651563  2.54325584]\n",
      "[-0.01154421 -0.81385143  0.44147296  0.5052436   2.88198381]\n",
      "[-0.35027239 -1.15257961  0.10274478  0.16651542  2.54325563]\n",
      "[-0.0115441  -0.81385132  0.44147307  0.50524371  2.88198392]\n",
      "[-0.35027235 -1.15257957  0.10274482  0.16651546  2.54325567]\n",
      "[-0.01154412 -0.81385134  0.44147305  0.50524369  2.8819839 ]\n",
      "[-0.35027236 -1.15257958  0.10274481  0.16651545  2.54325566]\n",
      "[-0.01154411 -0.81385133  0.44147306  0.5052437   2.88198391]\n",
      "[-0.35027235 -1.15257957  0.10274482  0.16651546  2.54325567]\n",
      "[-0.01154411 -0.81385133  0.44147306  0.5052437   2.88198391]\n",
      "[-0.35027235 -1.15257957  0.10274482  0.16651546  2.54325567]\n",
      "[-0.01154411 -0.81385133  0.44147306  0.5052437   2.88198391]\n",
      "[-0.35027235 -1.15257957  0.10274482  0.16651546  2.54325567]\n",
      "[-0.01154411 -0.81385133  0.44147306  0.5052437   2.88198391]\n",
      "[-0.35027235 -1.15257957  0.10274482  0.16651546  2.54325567]\n",
      "[-0.01154411 -0.81385133  0.44147306  0.5052437   2.88198391]\n",
      "[-0.35027235 -1.15257957  0.10274482  0.16651546  2.54325567]\n",
      "[-0.01154411 -0.81385133  0.44147306  0.5052437   2.88198391]\n",
      "[-0.35027235 -1.15257957  0.10274482  0.16651546  2.54325567]\n",
      "[-0.01154411 -0.81385133  0.44147306  0.5052437   2.88198391]\n",
      "[-0.35027235 -1.15257957  0.10274482  0.16651546  2.54325567]\n",
      "[-0.01154411 -0.81385133  0.44147306  0.5052437   2.88198391]\n",
      "[-0.35027235 -1.15257957  0.10274482  0.16651546  2.54325567]\n",
      "[-0.01154411 -0.81385133  0.44147306  0.5052437   2.88198391]\n",
      "[-0.35027235 -1.15257957  0.10274482  0.16651546  2.54325567]\n",
      "[-0.01154411 -0.81385133  0.44147306  0.5052437   2.88198391]\n",
      "[-0.35027235 -1.15257957  0.10274482  0.16651546  2.54325567]\n",
      "[-0.01154411 -0.81385133  0.44147306  0.5052437   2.88198391]\n"
     ]
    }
   ],
   "source": [
    "lr = 0.05\n",
    "theta = []\n",
    "#коэффициенты, честно подсмотреные в одном \"хитром\" источнике. Как они получились - неясно\n",
    "theta = [-0.66556365, -1.46787087, -0.21254648, -0.14877584,  2.22796437] \n",
    "\n",
    "print(theta)\n",
    "grad_loss_hist = []\n",
    "for _ in range(50):\n",
    "    sigm = predict(theta, X)\n",
    "    theta -= lr * np.sum(np.dot((sigm - y), X))/len(sigm)\n",
    "    loss = - np.mean(np.log(sigm) * y + np.log(1 - sigm) * (1 - y))\n",
    "    print(theta)\n",
    "    grad_loss_hist.append(loss)"
   ]
  },
  {
   "cell_type": "markdown",
   "metadata": {},
   "source": [
    "*Nesterov momentum*"
   ]
  },
  {
   "cell_type": "code",
   "execution_count": 28,
   "metadata": {},
   "outputs": [
    {
     "name": "stdout",
     "output_type": "stream",
     "text": [
      "[-0.66556365, -1.46787087, -0.21254648, -0.14877584, 2.22796437]\n",
      "[-0.21275782 -1.01506504  0.24025935  0.30402999  2.6807702 ]\n",
      "[-0.15221422 -0.95452144  0.30080295  0.36457359  2.7413138 ]\n",
      "[-0.35107116 -1.15337838  0.10194601  0.16571665  2.54245686]\n",
      "[-0.09671995 -0.89902717  0.35629722  0.42006786  2.79680807]\n",
      "[-0.22681735 -1.02912457  0.22619982  0.28997046  2.66671067]\n",
      "[-0.00983973 -0.81214695  0.44317744  0.50694808  2.88368829]\n",
      "[-0.17857262 -0.98087984  0.27444455  0.33821519  2.7149554 ]\n",
      "[-0.01573771 -0.81804493  0.43727946  0.5010501   2.87779031]\n",
      "[-0.23452393 -1.03683115  0.21849324  0.28226388  2.65900409]\n",
      "[-0.02086099 -0.82316821  0.43215618  0.49592682  2.87266703]\n",
      "[-0.19235946 -0.99466668  0.26065771  0.32442835  2.70116856]\n",
      "[-0.00728313 -0.80959035  0.44573404  0.50950468  2.88624489]\n",
      "[-0.20607712 -1.00838434  0.24694005  0.31071069  2.6874509 ]\n",
      "[-2.83086350e-03 -8.05138084e-01  4.50186306e-01  5.13956946e-01\n",
      "  2.89069716e+00]\n",
      "[-0.18475516 -0.98706238  0.26826201  0.33203265  2.70877286]\n",
      "[-0.00633616 -0.80864338  0.44668101  0.51045165  2.88719186]\n",
      "[-0.21136291 -1.01367013  0.24165426  0.3054249   2.68216511]\n",
      "[-0.00517446 -0.80748168  0.44784271  0.51161335  2.88835356]\n",
      "[-0.18424701 -0.98655423  0.26877016  0.3325408   2.70928101]\n",
      "[-0.0075699  -0.80987712  0.44544727  0.50921791  2.88595812]\n",
      "[-0.21414976 -1.01645698  0.23886741  0.30263805  2.67937826]\n",
      "[-0.00641142 -0.80871864  0.44660575  0.51037639  2.8871166 ]\n",
      "[-0.1839816  -0.98628882  0.26903557  0.33280621  2.70954642]\n",
      "[-0.00828333 -0.81059055  0.44473384  0.50850448  2.88524469]\n",
      "[-0.21573211 -1.01803933  0.23728506  0.3010557   2.67779591]\n",
      "[-0.00718992 -0.80949714  0.44582725  0.50959789  2.8863381 ]\n",
      "[-0.18397651 -0.98628373  0.26904066  0.3328113   2.70955151]\n",
      "[-0.00861479 -0.81092201  0.44440238  0.50817302  2.88491323]\n",
      "[-0.21635734 -1.01866456  0.23665983  0.30043047  2.67717068]\n",
      "[-0.0074965  -0.80980372  0.44552067  0.50929131  2.88603152]\n",
      "[-0.18397254 -0.98627976  0.26904463  0.33281527  2.70955548]\n",
      "[-0.00874946 -0.81105668  0.44426771  0.50803835  2.88477856]\n",
      "[-0.21661304 -1.01892026  0.23640413  0.30017477  2.67691498]\n",
      "[-0.00762442 -0.80993164  0.44539275  0.50916339  2.8859036 ]\n",
      "[-0.18397577 -0.98628299  0.2690414   0.33281204  2.70955225]\n",
      "[-0.0088018  -0.81110902  0.44421537  0.50798601  2.88472622]\n",
      "[-0.21670798 -1.0190152   0.23630919  0.30007983  2.67682004]\n",
      "[-0.00767147 -0.80997869  0.4453457   0.50911634  2.88585655]\n",
      "[-0.1839761  -0.98628332  0.26904107  0.33281171  2.70955192]\n",
      "[-0.00882185 -0.81112907  0.44419532  0.50796596  2.88470617]\n",
      "[-0.21674518 -1.0190524   0.23627199  0.30004263  2.67678284]\n",
      "[-0.0076901  -0.80999732  0.44532707  0.50909771  2.88583792]\n",
      "[-0.18397662 -0.98628384  0.26904055  0.33281119  2.7095514 ]\n",
      "[-0.00882946 -0.81113668  0.44418771  0.50795835  2.88469856]\n",
      "[-0.21675895 -1.01906617  0.23625822  0.30002886  2.67676907]\n",
      "[-0.00769694 -0.81000416  0.44532023  0.50909087  2.88583108]\n",
      "[-0.1839767  -0.98628392  0.26904047  0.33281111  2.70955132]\n",
      "[-0.00883235 -0.81113957  0.44418482  0.50795546  2.88469567]\n",
      "[-0.21676429 -1.01907151  0.23625288  0.30002352  2.67676373]\n",
      "[-0.00769961 -0.81000683  0.44531756  0.5090882   2.88582841]\n"
     ]
    }
   ],
   "source": [
    "lr = 0.05\n",
    "theta = []\n",
    "\n",
    "theta = [-0.66556365, -1.46787087, -0.21254648, -0.14877584,  2.22796437]\n",
    "vel_pred = np.zeros(5)\n",
    "vel = np.zeros(5)\n",
    "print(theta)\n",
    "nest_loss_hist = []\n",
    "gamma = 0.975\n",
    "for _ in range(50):\n",
    "    sigm = predict(theta, X)\n",
    "    loss = - np.mean(np.log(sigm) * y + np.log(1 - sigm) * (1 - y))\n",
    "    nest_loss_hist.append(loss)\n",
    "    sigm = predict(theta - gamma * vel_pred, X)\n",
    "    vel = np.dot(gamma, vel_pred) + lr * np.sum(np.dot((sigm - y),X))/len(sigm)\n",
    "\n",
    "    theta -= vel\n",
    "    print(theta)\n",
    "\n",
    "    vel_pred = vel\n"
   ]
  },
  {
   "cell_type": "markdown",
   "metadata": {},
   "source": [
    "*RMSProp*"
   ]
  },
  {
   "cell_type": "code",
   "execution_count": 29,
   "metadata": {},
   "outputs": [
    {
     "name": "stdout",
     "output_type": "stream",
     "text": [
      "[-0.66556365, -1.46787087, -0.21254648, -0.14877584, 2.22796437]\n",
      "[-0.34933588 -1.1516431   0.10368129  0.16745193  2.54419214]\n",
      "[-0.15889255 -0.96119977  0.29412462  0.35789526  2.73463547]\n",
      "[-0.23220432 -1.03451154  0.22081285  0.28458349  2.6613237 ]\n",
      "[-0.19630494 -0.99861216  0.25671223  0.32048287  2.69722308]\n",
      "[-0.21680695 -1.01911417  0.23621022  0.29998086  2.67672107]\n",
      "[-0.20499954 -1.00730676  0.24801763  0.31178827  2.68852848]\n",
      "[-0.21217205 -1.01447927  0.24084512  0.30461576  2.68135597]\n",
      "[-0.20770585 -1.01001307  0.24531132  0.30908196  2.68582217]\n",
      "[-0.21059508 -1.0129023   0.24242209  0.30619273  2.68293294]\n",
      "[-0.20867056 -1.01097778  0.24434661  0.30811725  2.68485746]\n",
      "[-0.209996   -1.01230322  0.24302117  0.30679181  2.68353202]\n",
      "[-0.20905544 -1.01136266  0.24396173  0.30773237  2.68447258]\n",
      "[-0.20974399 -1.01205121  0.24327318  0.30704382  2.68378403]\n",
      "[-0.20922485 -1.01153207  0.24379232  0.30756296  2.68430317]\n",
      "[-0.20962806 -1.01193528  0.24338911  0.30715975  2.68389996]\n",
      "[-0.20930576 -1.01161298  0.24371141  0.30748205  2.68422226]\n",
      "[-0.20957086 -1.01187808  0.24344631  0.30721695  2.68395716]\n",
      "[-0.20934664 -1.01165386  0.24367053  0.30744117  2.68418138]\n",
      "[-0.20954161 -1.01184883  0.24347556  0.3072462   2.68398641]\n",
      "[-0.2093674  -1.01167462  0.24364977  0.30742041  2.68416062]\n",
      "[-0.20952729 -1.01183451  0.24348988  0.30726052  2.68400073]\n",
      "[-0.20937661 -1.01168383  0.24364056  0.3074112   2.68415141]\n",
      "[-0.20952236 -1.01182958  0.24349481  0.30726545  2.68400566]\n",
      "[-0.2093777  -1.01168492  0.24363947  0.30741011  2.68415032]\n",
      "[-0.20952498 -1.0118322   0.24349219  0.30726283  2.68400304]\n",
      "[-0.20937123 -1.01167845  0.24364594  0.30741658  2.68415679]\n",
      "[-0.20953576 -1.01184298  0.24348141  0.30725205  2.68399226]\n",
      "[-0.20935533 -1.01166255  0.24366184  0.30743248  2.68417269]\n",
      "[-0.20955805 -1.01186527  0.24345912  0.30722976  2.68396997]\n",
      "[-0.20932476 -1.01163198  0.24369241  0.30746305  2.68420326]\n",
      "[-0.20959964 -1.01190686  0.24341753  0.30718817  2.68392838]\n",
      "[-0.20926806 -1.01157528  0.24374911  0.30751975  2.68425996]\n",
      "[-0.20967737 -1.01198459  0.2433398   0.30711044  2.68385065]\n",
      "[-0.20916034 -1.01146756  0.24385683  0.30762747  2.68436768]\n",
      "[-0.20982835 -1.01213557  0.24318882  0.30695946  2.68369967]\n",
      "[-0.20894549 -1.01125271  0.24407168  0.30784232  2.68458253]\n",
      "[-0.21013819 -1.01244541  0.24287898  0.30664962  2.68338983]\n",
      "[-0.20849037 -1.01079759  0.2445268   0.30829744  2.68503765]\n",
      "[-0.2108158  -1.01312302  0.24220137  0.30597201  2.68271222]\n",
      "[-0.20745976 -1.00976698  0.24555741  0.30932805  2.68606826]\n",
      "[-0.21240083 -1.01470805  0.24061634  0.30438698  2.68112719]\n",
      "[-0.20495833 -1.00726555  0.24805884  0.31182948  2.68856969]\n",
      "[-0.21636061 -1.01866783  0.23665656  0.3004272   2.67716741]\n",
      "[-0.19847985 -1.00078707  0.25453732  0.31830796  2.69504817]\n",
      "[-0.22670982 -1.02901704  0.22630735  0.29007799  2.6668182 ]\n",
      "[-0.18135922 -0.98366644  0.27165795  0.33542859  2.7121688 ]\n",
      "[-0.25142702 -1.05373424  0.20159015  0.26536079  2.642101  ]\n",
      "[-0.1473632  -0.94967042  0.30565397  0.36942461  2.74616482]\n",
      "[-0.27626058 -1.0785678   0.17675659  0.24052723  2.61726744]\n",
      "[-0.13895037 -0.94125759  0.3140668   0.37783744  2.75457765]\n"
     ]
    }
   ],
   "source": [
    "lr = 0.05\n",
    "theta = []\n",
    "\n",
    "theta = [-0.66556365, -1.46787087, -0.21254648, -0.14877584,  2.22796437]\n",
    "e_sq_grad = np.zeros(5)\n",
    "grad = np.zeros(5)\n",
    "print(theta)\n",
    "rmsp_loss_hist = []\n",
    "gamma = 0.975\n",
    "eps = 0.00000001\n",
    "for _ in range(50):\n",
    "    sigm = predict(theta, X)\n",
    "    loss = - np.mean(np.log(sigm) * y + np.log(1 - sigm) * (1 - y))\n",
    "    rmsp_loss_hist.append(loss)\n",
    "    \n",
    "    grad = np.sum(np.dot((sigm - y), X))/len(sigm)\n",
    "    \n",
    "    e_sq_grad = gamma * e_sq_grad + (1 - gamma)  * grad ** 2\n",
    "    \n",
    "    theta -= lr * grad / np.sqrt(e_sq_grad + eps)\n",
    "    print(theta)"
   ]
  },
  {
   "cell_type": "code",
   "execution_count": 30,
   "metadata": {},
   "outputs": [
    {
     "data": {
      "image/png": "[encoded data removed]",
      "text/plain": [
       "<Figure size 432x288 with 1 Axes>"
      ]
     },
     "metadata": {},
     "output_type": "display_data"
    }
   ],
   "source": [
    "# Сравним скорость убывания ошибки\n",
    "plt.plot(range(50), grad_loss_hist, label='Gradient loss' )\n",
    "plt.plot(range(50), nest_loss_hist, label='Nesterov momentum loss' )\n",
    "plt.plot(range(50), rmsp_loss_hist, label='RMSProp loss' )\n",
    "plt.title('Compare losses')\n",
    "plt.xlabel('$Step$', fontsize=15)\n",
    "plt.ylabel('$Loss$', fontsize=15)\n",
    "plt.legend()\n",
    "plt.show()"
   ]
  },
  {
   "cell_type": "markdown",
   "metadata": {},
   "source": [
    "**Вывод: лучший результат показал метод RMSProp. Nesterov momentum колеблется вокруг минимума**"
   ]
  }
 ],
 "metadata": {
  "kernelspec": {
   "display_name": "Python 3",
   "language": "python",
   "name": "python3"
  },
  "language_info": {
   "codemirror_mode": {
    "name": "ipython",
    "version": 3
   },
   "file_extension": ".py",
   "mimetype": "text/x-python",
   "name": "python",
   "nbconvert_exporter": "python",
   "pygments_lexer": "ipython3",
   "version": "3.8.3"
  }
 },
 "nbformat": 4,
 "nbformat_minor": 4
}
